{
 "cells": [
  {
   "cell_type": "code",
   "execution_count": 1,
   "source": [
    "import mysql_db as mydb\r\n",
    "conn = mydb.Conn('admin',\"admin\", 'sys')\r\n",
    "    \r\n",
    "#mysql_db.Conn( [\"localhost\", \"admin\", \"admin\",\"sys\"])"
   ],
   "outputs": [
    {
     "output_type": "stream",
     "name": "stdout",
     "text": [
      "admin admin sys\n"
     ]
    }
   ],
   "metadata": {}
  },
  {
   "cell_type": "code",
   "execution_count": null,
   "source": [
    "import schedule\r\n",
    "import time\r\n",
    "\r\n",
    "def job(msg):\r\n",
    "    print(\"I'm working...\", msg)\r\n",
    "\r\n",
    "#schedule.every(1).minutes.do(job)\r\n",
    "schedule.every().day.at(\"16:15\").do(job)\r\n",
    "#schedule.every().hour.do(job)\r\n",
    "while 1:\r\n",
    "    schedule.run_pending()\r\n",
    "    time.sleep(1)"
   ],
   "outputs": [],
   "metadata": {}
  },
  {
   "cell_type": "code",
   "execution_count": 4,
   "source": [
    "import nest_asyncio\r\n",
    "nest_asyncio.apply()"
   ],
   "outputs": [],
   "metadata": {}
  },
  {
   "cell_type": "code",
   "execution_count": 46,
   "source": [
    "import twint\r\n",
    "c = twint.Config()\r\n",
    "c.Username = \"DiyanetTV\"\r\n",
    "\r\n",
    "profile= twint.run.Lookup(c)\r\n",
    "print(profile, type(profile))"
   ],
   "outputs": [
    {
     "output_type": "stream",
     "name": "stdout",
     "text": [
      "1022121524 | Diyanet TV | @DiyanetTV | Private: False | Verified: True | Bio: Diyanet TV Resmi Twitter Hesabı   [Digiturk - Kanal 68] [D-Smart - Kanal 104]  [Kablo TV - Kanal 555]  [Tivibu - Kanal 49] | Location: Ankara | Url: https://t.co/MC301oKv1a | Joined: 2012-12-19 13:49:18 UTC | Tweets: 36956 | Following: 37 | Followers: 124631 | Likes: 1103 | Media: 29710 | Avatar: https://pbs.twimg.com/profile_images/1393124500212965377/D_QNQK9J_normal.jpg\n",
      "None <class 'NoneType'>\n"
     ]
    }
   ],
   "metadata": {}
  },
  {
   "cell_type": "code",
   "execution_count": 13,
   "source": [
    "import twint\r\n",
    "dic = {}\r\n",
    "c = twint.Config()\r\n",
    "c.Username = \"DiyanetTV\"\r\n",
    "c.Hide_output = True\r\n",
    "c.Store_object = True\r\n",
    "sonuc= twint.run.Lookup(c)\r\n",
    "print(\"s:\",sonuc)\r\n",
    "\r\n",
    "fol = twint.output.users_list[:]\r\n",
    "print(fol)\r\n",
    "dic[\"followers\"] = fol[0].followers\r\n",
    "dic[\"following\"] = fol[0].following\r\n",
    "dic[\"media_counts\"]=fol[0]\r\n",
    "twint.output.clean_lists()\r\n",
    "\r\n",
    "twint.run.Followers(c)\r\n",
    "lst = twint.output.follows_list[:]\r\n",
    "dic[\"followers_list\"] = lst\r\n",
    "twint.output.clean_lists()\r\n",
    "\r\n",
    "twint.run.Following(c)\r\n",
    "lst1 = twint.output.follows_list[:]\r\n",
    "dic[\"following_list\"] = lst1\r\n",
    "twint.output.clean_lists()\r\n",
    "print(dic)\r\n"
   ],
   "outputs": [
    {
     "output_type": "stream",
     "name": "stdout",
     "text": [
      "s: None\n",
      "[<twint.user.user object at 0x0000018071D6E940>]\n",
      "{'followers': 124640, 'following': 37, 'followers_list': [], 'following_list': []}\n"
     ]
    }
   ],
   "metadata": {}
  },
  {
   "cell_type": "code",
   "execution_count": 3,
   "source": [
    "def getTweets(config):    \r\n",
    "    twint.run.Search(config)\r\n",
    "    twint.output.clean_lists\r\n",
    "    tweets = twint.output.tweets_list\r\n",
    "    return tweets"
   ],
   "outputs": [],
   "metadata": {}
  },
  {
   "cell_type": "code",
   "execution_count": 4,
   "source": [
    "def tweets2Db( config):\r\n",
    "    tweetsList= getTweets(config)\r\n",
    "    print(\"t:\",type(tweetsList))\r\n",
    "    mydb.insertTweets(tweetsList, config)\r\n",
    "    "
   ],
   "outputs": [],
   "metadata": {}
  },
  {
   "cell_type": "code",
   "execution_count": 7,
   "source": [
    "import nest_asyncio\r\n",
    "nest_asyncio.apply()"
   ],
   "outputs": [],
   "metadata": {}
  },
  {
   "cell_type": "code",
   "execution_count": 13,
   "source": [
    "import twint\r\n",
    "c = twint.Config()\r\n",
    "c.Username = 'DiyanetTV'\r\n",
    "c.Store_object = True\r\n",
    "c.Store_csv = True\r\n",
    "c.Stats=True\r\n",
    "c.Hide_output=True\r\n",
    "c.Store_csv=True\r\n",
    "c.Count=True\r\n",
    "c.Pandas=True\r\n",
    "#c.Output = \"DiyanetTV.csv\""
   ],
   "outputs": [],
   "metadata": {}
  },
  {
   "cell_type": "code",
   "execution_count": null,
   "source": [
    "tweetsList= getTweets(c)\r\n",
    "print(\"t:\",type(tweetsList))"
   ],
   "outputs": [],
   "metadata": {}
  },
  {
   "cell_type": "code",
   "execution_count": 52,
   "source": [
    "import importlib\r\n",
    "import csv"
   ],
   "outputs": [],
   "metadata": {}
  },
  {
   "cell_type": "code",
   "execution_count": null,
   "source": [
    "file = open('tweetslist.csv', 'w+', newline ='')\r\n",
    "print(\"t:\",type(tweetsList))\r\n",
    "# writing the data into the file\r\n",
    "with file:    \r\n",
    "    write = csv.writer(file)\r\n",
    "    write.writerows(tweetsList)"
   ],
   "outputs": [],
   "metadata": {}
  },
  {
   "cell_type": "code",
   "execution_count": 54,
   "source": [
    "importlib.reload(mydb)\r\n",
    "print(\"t:\",len(tweetsList))\r\n"
   ],
   "outputs": [
    {
     "output_type": "stream",
     "name": "stdout",
     "text": [
      "t: 67463\n"
     ]
    }
   ],
   "metadata": {}
  },
  {
   "cell_type": "code",
   "execution_count": 56,
   "source": [
    "mydb.insertTweets(tweetsList, c)"
   ],
   "outputs": [],
   "metadata": {}
  }
 ],
 "metadata": {
  "orig_nbformat": 4,
  "language_info": {
   "name": "python",
   "version": "3.9.6",
   "mimetype": "text/x-python",
   "codemirror_mode": {
    "name": "ipython",
    "version": 3
   },
   "pygments_lexer": "ipython3",
   "nbconvert_exporter": "python",
   "file_extension": ".py"
  },
  "kernelspec": {
   "name": "python3",
   "display_name": "Python 3.9.6 64-bit"
  },
  "interpreter": {
   "hash": "7d108df507e50158264390c8614390646c5566652f3364134b64964001c9095c"
  }
 },
 "nbformat": 4,
 "nbformat_minor": 2
}