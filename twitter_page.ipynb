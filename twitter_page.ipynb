{
 "cells": [
  {
   "cell_type": "code",
   "execution_count": 5,
   "source": [
    "import twint"
   ],
   "outputs": [],
   "metadata": {}
  },
  {
   "cell_type": "code",
   "execution_count": 6,
   "source": [
    "import gc\r\n",
    "gc.collect()"
   ],
   "outputs": [
    {
     "output_type": "execute_result",
     "data": {
      "text/plain": [
       "34"
      ]
     },
     "metadata": {},
     "execution_count": 6
    }
   ],
   "metadata": {}
  },
  {
   "cell_type": "code",
   "execution_count": 3,
   "source": [
    "import twint\r\n",
    "import nest_asyncio\r\n",
    "nest_asyncio.apply()\r\n",
    "# Configure\r\n",
    "c = twint.Config()\r\n",
    "c.Username = \"DiyanetTV\"\r\n",
    "c.Limit = 300\r\n",
    "c.Store_csv = True\r\n",
    "c.Output = \"none.csv\"\r\n",
    "twint.run.Search(c)"
   ],
   "outputs": [
    {
     "output_type": "stream",
     "name": "stdout",
     "text": [
      "1429654631219482629 2021-08-23 07:00:00 +0300 <DiyanetTV> Ey Rabbimiz! Bizi ve bizden önce iman etmiş olan kardeşlerimizi bağışla. Kalplerimizde, iman edenlere karşı hiçbir kin tutturma.  Haşr, 59/10 #GününDuası  https://t.co/C1VGo6mbMG\n",
      "1429639534770233344 2021-08-23 06:00:01 +0300 <DiyanetTV> 📍 Bir #Ayet, Bir #Hadis, Bir #Dua  (İşaret Dili)  #HayırlıSabahlar #DiyanetTV  https://t.co/nkjrtCVFah\n",
      "1429506171774414853 2021-08-22 21:10:04 +0300 <DiyanetTV> Rahmân ve Rahîm olan Allah´ın adıyla... İçinizden hayra çağıran, iyiliği emredip kötülüğü meneden bir topluluk bulunsun. İşte onlar kurtuluşa erenlerdir.   Âl-i İmrân Sûresi, 104 #KuranıKerim  https://t.co/9BSTw7oKKP\n",
      "1429473523576328202 2021-08-22 19:00:21 +0300 <DiyanetTV> Rahmân ve rahîm olan Allah’ın adıyla... “Kim zerre ağırlığınca bir hayır işlerse onun mükâfatını görecektir. Kim de zerre ağırlığınca bir kötülük işlerse onun cezasını görecektir.” Zilzâl, 99/7,8 #KuranıKerim  https://t.co/zBmGWTtCKv\n",
      "1429443273895157761 2021-08-22 17:00:08 +0300 <DiyanetTV> \"Ömrüm boyunca oruç tutsam, hiç uyumadan geceleri ibadetle geçirsem, malımı Allah (c.c.) yoluna infak etsem, fakat gönlümde Allah'a (c.c.) itaat edenlere karşı bir sevgi, isyan edenlere karşı bir nefret duymasam, bütün bu yaptıklarımdan bir fayda göremem.\"  Abdullah bin Ömer  https://t.co/rodjXCt5MR\n",
      "1429413198491488263 2021-08-22 15:00:38 +0300 <DiyanetTV> #BirHadis  “Hamd, vaadini yerine getiren, kuluna yardım eden ve düşman topluluklarını tek başına yenilgiye uğratan Allah’a mahsustur.”  | Hz. Muhammed (s.a.s.)  https://t.co/KkjRilHMef\n",
      "1429375403945299968 2021-08-22 12:30:27 +0300 <DiyanetTV> Siyeri bilenlerin, bilmek, öğrenmek isteyenlerin, bilmek lazım gelir diyenlerin ödüllü yarışma programı;  “Siyer’i Biliyor musun?” cumartesi ve pazar 21.45'te #DiyanetTV’de 📺   Başvuru için:  https://t.co/Xhqj2GFP6t  https://t.co/qOjl253EKi\n",
      "1429322629882785795 2021-08-22 09:00:45 +0300 <DiyanetTV> Gönül Ne Kahve İster Ne Kahvehane Gönül Muhabbet İster Kahve Bahane... ☕️  Kahve Bahane'nin bu haftaki konuğu Selahattin Alpay...  Kahve Bahane her pazar saat 13.00’te #DiyanetTV'de. 📺  https://t.co/gIaEQF8D4N\n",
      "1429307480664907776 2021-08-22 08:00:33 +0300 <DiyanetTV> 📺 #DiyanetTV'de Bugün  📌 22 Ağustos 2021 Pazar  ▪️ 11.00 Camide Çocuk Sesi ▪️ 11.30 Çocuk Sahabiler  ▪️ 13.00 Kahve Bahane ▪️ 19.00 Bisikletli Seyyah  #Güvenleİzleyin  https://t.co/Cke22odJxo\n",
      "1429292242502438919 2021-08-22 07:00:00 +0300 <DiyanetTV> Allah’ım! Himaye ettiğin kimseler gibi beni de himaye et. Senin dost olduğun kimse asla zelil olmaz. #GününDuası  https://t.co/LeNq4Zio4k\n",
      "1429277145235402755 2021-08-22 06:00:00 +0300 <DiyanetTV> 📍 Bir #Ayet, Bir #Hadis, Bir #Dua  (İşaret Dili)  #HayırlıSabahlar #DiyanetTV  https://t.co/EkeECQW1ic\n",
      "1429148797142134787 2021-08-21 21:30:00 +0300 <DiyanetTV> \"Camiler Çiçek Açtı\"  https://t.co/UmBOo3jMaC\n",
      "1429143778401603591 2021-08-21 21:10:03 +0300 <DiyanetTV> Rahmân ve Rahîm olan Allah´ın adıyla Gece ve gündüzde barınan her şey O’nundur. O, her şeyi işitmekte, bilmektedir.   En'âm Sûresi, 13 #KuranıKerim  https://t.co/xLRGWSm9MA\n",
      "1429133698985648129 2021-08-21 20:30:00 +0300 <DiyanetTV> Bolluğun, Bereketin, Birlikteliğin Simgesi  https://t.co/wdUnIwzGs7\n",
      "1429111197861875716 2021-08-21 19:00:35 +0300 <DiyanetTV> Rahmân ve Rahîm olan Allah´ın adıyla... Yalan sözlerle Allah’a iftira edenden veya O’nun âyetlerini yalan sayandan daha zalimi kimdir?    En'âm Sûresi, 21 #KuranıKerim  https://t.co/3kwD4p3wUz\n",
      "1429050698151366659 2021-08-21 15:00:11 +0300 <DiyanetTV> #BirHadis  “Sizden biriniz, ‘dua ettim de duam karşılık görmedi’ deyip acele etmediği müddetçe duası karşılık bulur.”  | Hz. Muhammed (s.a.s.)  https://t.co/MYhMlFjw3A\n",
      "1429035639945760770 2021-08-21 14:00:21 +0300 <DiyanetTV> \"Ey kişi, kalbinde Allah (c.c.) sevgisinden başka bir şey olmadığı zaman bil ki çok zenginsin.\"  İbni Vefa  https://t.co/7sbh47ecRo\n",
      "1429012966935080961 2021-08-21 12:30:15 +0300 <DiyanetTV> Siyeri bilenlerin, bilmek, öğrenmek isteyenlerin, bilmek lazım gelir diyenlerin ödüllü yarışma programı;  “Siyer’i Biliyor musun?” cumartesi ve pazar 21.45'te #DiyanetTV’de 📺   Başvuru için:  https://t.co/Xhqj2GFP6t  https://t.co/FK8kwcwA1U\n",
      "1428952567841701891 2021-08-21 08:30:15 +0300 <DiyanetTV> Yaz geldi, camilerimiz şenlendi. Yazın gelmesiyle camilerimizdeki çocuk sesleri çoğaldı ve Yaz Kur'an Kursları ile çocuklarımızın bilgileri arttı. Gelin sizler de Camide Çocuk Sesi ile bizlere katılın.   Camide Çocuk Sesi hafta sonu saat 11.00'de #DiyanetTV'de.  https://t.co/GPL44Z2CGy\n",
      "1428944970799534086 2021-08-21 08:00:04 +0300 <DiyanetTV> 📺 #DiyanetTV'de Bugün  📌 21 Ağustos 2021 Cumartesi  ▪️ 11.00 Camide Çocuk Sesi ▪️ 11.30 Ailemizin Hekimi  ▪️ 18.00 Bil Bakalım ▪️ 19.00 Hakikat Yolcusu Örnek Kadınlar  #Güvenleİzleyin  https://t.co/V6wkIOvTee\n",
      "1428929859028459526 2021-08-21 07:00:01 +0300 <DiyanetTV> (Allah’ım!) Göz açıp kapayıncaya kadar beni nefsime bırakma.  Hadis-i Şerif - Zikir ve Dua, 914 #GününDuası  https://t.co/BIES0EInJ0\n",
      "1428914757755617284 2021-08-21 06:00:00 +0300 <DiyanetTV> 📍 Bir #Ayet, Bir #Hadis, Bir #Dua  (İşaret Dili)  #HayırlıSabahlar #DiyanetTV  https://t.co/N2WFBz0Ex1\n",
      "1428781389776887813 2021-08-20 21:10:03 +0300 <DiyanetTV> Rahmân ve Rahîm olan Allah´ın adıyla...  Gevşeklik göstermeyin, üzülmeyin; eğer inanmışsanız şüphesiz en üstün olan sizsiniz.   Âl-i İmrân Sûresi, 139 #KuranıKerim  https://t.co/dDoLuKK1gY\n",
      "1428775084903239686 2021-08-20 20:45:00 +0300 <DiyanetTV> Şenlik Havasında Geçen Kur'an Kursları  https://t.co/4Ah650Uxyx\n",
      "1428763762773823495 2021-08-20 20:00:00 +0300 <DiyanetTV> Yaz Kur'an Kursları Sona Erdi  https://t.co/qWQTnfEbeM\n",
      "1428750180262760451 2021-08-20 19:06:02 +0300 <DiyanetTV> Rahmân ve Rahîm olan Allah´ın adıyla...  “Yaratan Rabbinin adıyla oku! O, insanı alaktan yaratmıştır. Oku! Kalemle yazmayı öğreten, böylece insana bilmediğini bildiren Rabbin sonsuz kerem sahibidir.”   Alak Sûresi, 1-5 #KuranıKerim  https://t.co/pSdvCWJsAt\n",
      "1428688435619958787 2021-08-20 15:00:41 +0300 <DiyanetTV> #BirHadis  “Ameller ancak niyetlere göre değer kazanır. Herkes niyet ettiği şeyin karşılığını alacaktır...”  | Hz. Muhammed (s.a.s.)  https://t.co/AMV8YCUz4t\n",
      "1428661298468999168 2021-08-20 13:12:51 +0300 <DiyanetTV> [Canlı Yayın] Cuma Hutbesi: Müslüman İşini Sağlam ve Güzel Yapar - 20 Ağustos 2021  https://t.co/XCxxhICshR\n",
      "1428635492724224000 2021-08-20 11:30:18 +0300 <DiyanetTV> Bisikleti ile seyahat eden ve Anadolu’nun manevi merkezlerine yolculuk yapan bir seyyahın yol hikayeleri... 🚲  ▪️ Bu hafta Habib-i Neccar'ın manevi izlerini takip edecek olan #BisikletliSeyyah her cuma saat 21.00'de #DiyanetTV'de. 📺  https://t.co/QV1yhK1T7A\n",
      "1428610937058209793 2021-08-20 09:52:44 +0300 <DiyanetTV> 📌 Dini konularda aklımıza takılan sorular cevap buluyor   💠 Konuğumuz Din İşleri Yüksek Kurulu Üyesi İdris Bozkurt  #GününBereketi hafta içi her gün saat 10.30'da #DiyanetTV'de 📺  https://t.co/m8nyGiA9vK\n",
      "1428609043707351044 2021-08-20 09:45:12 +0300 <DiyanetTV> Allah'ın Selamı, Rahmeti, Bereketi üzerimize olsun! Cumamız Mübarek Olsun | #HayırlıCumalar  https://t.co/XFTMNHzIYg\n",
      "1428605284000350210 2021-08-20 09:30:16 +0300 <DiyanetTV> 🔹 Cuma bir andır. Huzurun ve sevincin gönülleri mesken tuttuğu zamandır.  🔸 Mü’minlerin avuçları, günün en bereketli saatinde duaya yükselir bugün...  🔷 Rahmetin solunduğu bu mübarek günde \"Cuma Sevinci\" canlı yayınla her cuma saat 12.15'de #DiyanetTV’de 📺  https://t.co/UcRcZt3GLx\n",
      "1428586340963082242 2021-08-20 08:15:00 +0300 <DiyanetTV> 📌 Cuma Hutbesi: Müslüman İşini Sağlam ve Güzel Yapar - 20 Ağustos 2021  “Yaptığınız işi güzel yapın; Allah işini güzel yapanları sever.” [Bakara, 2/195]  🔗 https://t.co/sHB2N0ar6R   #HayırlıCumalar  https://t.co/WvFS8B7nmk\n",
      "1428582603431583751 2021-08-20 08:00:09 +0300 <DiyanetTV> 📺 #DiyanetTV'de Bugün  📌 20 Ağustos 2021 Cuma  ▪️ 10.30 Günün Bereketi ▪️ 12.15 Cuma Sevinci  ▪️ 19.00 Bil Bakalım ▪️ 21.00 Bisikletli Seyyah  #Güvenleİzleyin  https://t.co/w2uKpFq3fI\n",
      "1428567469413658626 2021-08-20 07:00:00 +0300 <DiyanetTV> Kalbimi dinin ve itaatin üzerine sabit kıl, Senden hidayet ve takva isterim, ahlakımı güzelleştir.  Hadis-i Şerif - İbn Hıbbân, Ed’ıye, 900; Tirmizî, De’avât, 30 #GününDuası  https://t.co/EadREbhGWK\n",
      "1428552374679965698 2021-08-20 06:00:02 +0300 <DiyanetTV> 📍 Bir #Ayet, Bir #Hadis, Bir #Dua  (İşaret Dili)  #HayırlıSabahlar #DiyanetTV  https://t.co/0SNS3f280P\n",
      "1428424021553467395 2021-08-19 21:30:00 +0300 <DiyanetTV> TDV Afet Bölgelerinde  https://t.co/gT8K9mWS8v\n",
      "1428420498392760320 2021-08-19 21:16:00 +0300 <DiyanetTV> İşaret Diliyle Cuma Hutbesi - 20 Ağustos 2021  https://t.co/VMq9yCNnHw\n",
      "1428416474591412235 2021-08-19 21:00:00 +0300 <DiyanetTV> Ayasofya Çocuklarla Şenlendi  https://t.co/JeKGapZtvi\n",
      "1428408922948325377 2021-08-19 20:30:00 +0300 <DiyanetTV> Muharremiye ve Kerbela Şehitlerini Anma Programı  https://t.co/mvehQLX5k9\n",
      "1428328391451848722 2021-08-19 15:10:00 +0300 <DiyanetTV> Muhammed Taha Demirel Yaz Kur'an Kursu Kapanış Programı'nda Dua Etti.   Allah'ım! Ülkemizi sel, deprem, yangın, susuzluk gibi her türlü afetlerden muhafaza eyle. İçinde bulunduğumuz Muharrem ayını bereketli eyle.  https://t.co/xvx6cXCCgL\n",
      "1428322100029235200 2021-08-19 14:45:00 +0300 <DiyanetTV> Yaz Kur'an Kursu Öğrencilerinden Peygamber Duaları...  https://t.co/GsT3sF96sv\n",
      "1428313292049690624 2021-08-19 14:10:00 +0300 <DiyanetTV> Yaz Kur'an Kursu Öğrencisi Semih Arslan'dan Kur'an Tilaveti...  Bakara Suresi, 152-156  https://t.co/1Vpxy01lBu\n",
      "1428310608362020868 2021-08-19 13:59:20 +0300 <DiyanetTV> Bugün #DünyaİnsaniYardımGünü...  İyilik edin, kuşkusuz Allah iyilik edenleri sever. Bakara Sûresi, 195  https://t.co/Y6aIIFm8Eg\n",
      "1428308695843315715 2021-08-19 13:51:44 +0300 <DiyanetTV> Çocuk Sesleri ile Çınlamayan, Süslenmeyen Camilerimiz Gariptir - Prof. Dr. Ali Erbaş  https://t.co/rs6sVoqsjt\n",
      "1428288205384732674 2021-08-19 12:30:19 +0300 <DiyanetTV> 🇹🇷 İstiklal Marşımızın 100. yılı anısına “Safahat’tan Öyküler” her perşembe saat 21.30'da #DiyanetTV’de. 📺  https://t.co/pDHYNMqrfv\n",
      "1428288164704235522 2021-08-19 12:30:09 +0300 <DiyanetTV> [Canlı Yayın] Yaz Kur'an Kursları Kapanış Programı - Ayasofya-i Kebîr Câmi-i Şerîfi / İstanbul  https://t.co/IUpWt8hJTN\n",
      "1428246274722119684 2021-08-19 09:43:42 +0300 <DiyanetTV> Mehmetçik görev başında 🇹🇷  Kastamonu'da yaşanan #sel felaketinde sular altında kalan Bozkurt Merkez Camii'ndeki çamur tabakasının temizlenmesinin ardından komandolar, camiyi deterjan ve sabunla yıkadı. 👏  Fotoğraf: Anadolu Ajansı 📸  https://t.co/VW0XiG38q8\n",
      "1428235278699925504 2021-08-19 09:00:00 +0300 <DiyanetTV> 📌  Ailede sevgi dili nasıl kurulmalı? Eşler arasında sevgiyi geliştirmek için neler yapılabilir?   💠 Konuğumuz Psikolog Dr. Rukiye Karaköse  #GününBereketi hafta içi her gün saat 10.30'da #DiyanetTV'de 📺  https://t.co/zHJYYzoJN4\n",
      "1428205082445717505 2021-08-19 07:00:01 +0300 <DiyanetTV> Allah’ım! Sıhhat ve afiyet verdiklerinle beraber bana da afiyet ver.  Hadis-i Şerif – Tirmizî, Vitr, 10 #GününDuası  https://t.co/o3BMXfnmDg\n",
      "1428189982401843206 2021-08-19 06:00:00 +0300 <DiyanetTV> 📍 Bir #Ayet, Bir #Hadis, Bir #Dua  (İşaret Dili)  #HayırlıSabahlar #DiyanetTV  https://t.co/NQt574Na6G\n",
      "1428072052745850888 2021-08-18 22:11:24 +0300 <DiyanetTV> Muharrem Ayı - Prof. Dr. Ali Erbaş  https://t.co/O7EM4ZUrXY\n",
      "1428070221642747907 2021-08-18 22:04:07 +0300 <DiyanetTV> Hac ve Umre Hizmetleri Genel Müdürü Remzi Bircan, Muharremiye ve Kerbela Şehitlerini Anma Programında Dua Etti.  https://t.co/f2NRorzZm8\n",
      "1428060969024974849 2021-08-18 21:27:21 +0300 <DiyanetTV> Ey Şehid-i Kerbelaya Ağlayan...  #Kerbela  https://t.co/iiZZKvyNci\n",
      "1428046637587304453 2021-08-18 20:30:24 +0300 <DiyanetTV> [Özel Yayın] ”Muharremiye ve Kerbela Şehitlerini Anma Programı” - Hacı Bayram-ı Veli Camii / Ankara  https://t.co/iDCYZ47OEg\n",
      "1428045275898261505 2021-08-18 20:25:00 +0300 <DiyanetTV> Sağlık Çalışanları Unutulmadı  https://t.co/Sqlx7Uac7L\n",
      "1428042759945035786 2021-08-18 20:15:00 +0300 <DiyanetTV> Aşure ve Kerbela Hadisesi  https://t.co/Ux4Tw5qRPU\n",
      "1428040494626529292 2021-08-18 20:06:00 +0300 <DiyanetTV> Diyanet İşleri Başkanı Prof. Dr. Ali Erbaş'tan Emirhan Yalçın'ın Ailesine Ziyaret  https://t.co/vAWdmwFgr0\n",
      "1428038174396227585 2021-08-18 19:56:47 +0300 <DiyanetTV> Diyanet İşleri Başkanı Prof. Dr. Ali Erbaş'tan Muharrem Ayı Mesajı  https://t.co/TdNU9A1lb2\n",
      "1427963541211000837 2021-08-18 15:00:13 +0300 <DiyanetTV> #BirHadis  “Bir kul, kardeşinin yardımında olduğu sürece, Allah da o kulun yardımcısıdır.”   | Hz. Muhammed (s.a.s.)  https://t.co/0F0KWs5ALt\n",
      "1427939966693388288 2021-08-18 13:26:32 +0300 <DiyanetTV> Seyyidü’ş-şühedâ Hz. Hüseyin ve Kerbelâ mazlumları olmak üzere Bedir’den Malazgirt’e, Çanakkale’den Sakarya’ya, İstiklal Mücadelesi’nden 15 Temmuz’a ve günümüze kadar din, iman, vatan ve mukaddesat uğrunda feday-ı can eden bütün şehitlerimizi rahmet ve şükranla yâd ediyoruz.  https://t.co/ccG1QJWRGq\n",
      "1427903198539440130 2021-08-18 11:00:26 +0300 <DiyanetTV> ▪️ Kerbelayı anlamak, Hüseyin'i anlamak için ”Muharremiye ve Kerbela Şehitlerini Anma Programı” Ankara Hacı Bayram Camii'nden canlı yayınla çarşamba 20.30’da Diyanet TV'de. 📺  https://t.co/RE3YriQI80\n",
      "1427882103350378497 2021-08-18 09:36:36 +0300 <DiyanetTV> Başta Hz. Hüseyin ve Kerbelâ’da şehit olan Ehl-i Beyt olmak üzere, mukaddesatımız uğruna can veren bütün şehitlerimize selam olsun. Makamları âlî, mekânları cennet olsun.  https://t.co/ptGRv1VtqQ\n",
      "1427872936816431109 2021-08-18 09:00:11 +0300 <DiyanetTV> 📌  Aşure Günü ve Muharrem Ayı  💠 Konuğumuz Diyanet İşleri Başkanlığı Başkanlık Müşaviri Sabri Akpolat  #GününBereketi hafta içi her gün saat 10.30'da #DiyanetTV'de 📺  https://t.co/HN1A8ythmR\n",
      "1427857916468604931 2021-08-18 08:00:30 +0300 <DiyanetTV> 📺 #DiyanetTV'de Bugün  📌 18 Ağustos 2021 Çarşamba  ▪️ 10.30 Günün Bereketi ▪️ 12.30 Peygamberimizin İzinde Dört Halife  ▪️ 19.00 Bil Bakalım ▪️ 20.30 Muharremiye ve Kerbela Şehitlerini Anma  #Güvenleİzleyin  https://t.co/5h4b4aINLm\n",
      "1427842691828789248 2021-08-18 07:00:00 +0300 <DiyanetTV> Allah’ım! Doğu ile batı arasını uzaklaştırdığın gibi günahlarımla aramı uzaklaştır.  Hadis-i Şerif - Buhârî, Ezân, 89 #GününDuası  https://t.co/IPMKhspp2D\n",
      "1427827596079910914 2021-08-18 06:00:01 +0300 <DiyanetTV> 📍 Bir #Ayet, Bir #Hadis, Bir #Dua  (İşaret Dili)  #HayırlıSabahlar #DiyanetTV  https://t.co/MbhKmGXnUO\n",
      "1427736754891722754 2021-08-17 23:59:03 +0300 <DiyanetTV> 🗓️ 10 Muharrem Âşûrâ Günü  Âşûrâ paylaşmanın, dayanışmanın, birlikteliğin ve sevginin ifadesi, bolluk ve bereketin simgesidir.  Âşûrâ Günümüz Mübarek Olsun. #AşureGünü  https://t.co/P9nO1XqwJy\n",
      "1427700157336932355 2021-08-17 21:33:37 +0300 <DiyanetTV> “Ramazan ayından sonra en kıymetli oruç Allah’ın (c.c.) ayı olan Muharrem ayında tutulan oruçtur.”  Hadis-i Şerif | Tirmizî, Savm, 40  https://t.co/UJBKA83OTi\n",
      "1427684147498127368 2021-08-17 20:30:00 +0300 <DiyanetTV> 17 Ağustos Depremi...  https://t.co/CccoetR8m1\n",
      "1427623796605915148 2021-08-17 16:30:11 +0300 <DiyanetTV> ▪️ Kerbelayı anlamak, Hüseyin'i anlamak için ”Muharremiye ve Kerbela Şehitlerini Anma Programı” Ankara Hacı Bayram Camii'nden canlı yayınla çarşamba 20.30’da #DiyanetTV'de. 📺  https://t.co/BvBfOj2TRs\n",
      "1427596773263020032 2021-08-17 14:42:48 +0300 <DiyanetTV> 📍 Yarın Âşûrâ Günü | 18 Ağustos 2021 Çarşamba  “Ramazan ayından sonra en kıymetli oruç Allah’ın ayı olan Muharrem ayında tutulan oruçtur”  | Hadis-i Şerif - Tirmizî, Savm, 40 #Aşure  https://t.co/XNdz1P96rh\n",
      "1427540832454914050 2021-08-17 11:00:31 +0300 <DiyanetTV> Ülkemizi tanımaya, Türk - İslam medeniyetini öğrenmeye çalışan ve bu amaçla Anadolu’yu gezen Misafir, bu hafta Konya'ya konuk oluyor.  Misafir her salı 19.00'da #DiyanetTV'de 📺  https://t.co/w32uzD77oS\n",
      "1427527419548905485 2021-08-17 10:07:13 +0300 <DiyanetTV> 📺 #DiyanetTV'de Bugün  📌 17 Ağustos 2021 Salı  ▪️ 10.30 Günün Bereketi ▪️ 12.00 Haber 12  ▪️ 13.00 Helal Kazancın Alın Teri ▪️ 20.00 Güncel Dini Meseleler  #Güvenleİzleyin  https://t.co/styZHMPYqF\n",
      "1427519842710695989 2021-08-17 09:37:07 +0300 <DiyanetTV> #17Ağustos Marmara Depremi’nde ve bugüne kadar ülkemizde meydana gelen afetlerde hayatlarını kaybeden vatandaşlarımıza Allah’tan rahmet diliyoruz.   Yüce Rabbimiz, bizi, ülkemizi ve İslam beldelerini afetlerden muhafaza eylesin. #17Ağustos1999  https://t.co/znw6Pn4iaA\n",
      "1427519260562272265 2021-08-17 09:34:48 +0300 <DiyanetTV> 📌  İslami ilimlere katkıları bağlamında kadınların bu alanda olmasının önemi...   💠 Konuğumuz Ankara Sosyal Bilimler Üniversitesi Dr. Öğr. Üyesi Zeynep Kaya  #GününBereketi hafta içi her gün saat 10.30'da #DiyanetTV'de .📺  https://t.co/V7llkpPzFC\n",
      "1427480305229729827 2021-08-17 07:00:00 +0300 <DiyanetTV> Rabbim! Beni yalnız başıma bırakma. Sen, vârislerin en hayırlısısın.   Enbiyâ, 21/89 #GününDuası  https://t.co/GbOxqQavkg\n",
      "1427465207635398656 2021-08-17 06:00:01 +0300 <DiyanetTV> 📍 Bir #Ayet, Bir #Hadis, Bir #Dua  (İşaret Dili)  #HayırlıSabahlar #DiyanetTV  https://t.co/03tfwwYO1e\n",
      "1427359737528606726 2021-08-16 23:00:55 +0300 <DiyanetTV> Rahmân ve Rahîm olan Allah´ın adıyla… O’nun bilgisi dışında bir yaprak bile düşmez.   En'âm Sûresi, 59 #KuranıKerim  https://t.co/4Y5uWmNpfB\n",
      "1427329409330122755 2021-08-16 21:00:24 +0300 <DiyanetTV> Rahmân ve Rahîm olan Allah´ın adıyla... Sen O’ndan razı, O da senden hoşnut olarak rabbine dön.   Fecr Sûresi, 28 #KuranıKerim  https://t.co/Iw0bwpaUUx\n",
      "1427321758370045968 2021-08-16 20:30:00 +0300 <DiyanetTV> Bozkurt'ta Selin İzleri Siliniyor  https://t.co/OcgS23GvQr\n",
      "1427269033548713994 2021-08-16 17:00:29 +0300 <DiyanetTV> Rahmân ve Rahîm olan Allah´ın adıyla... Yedi göğü birbiriyle tam bir uygunluk içinde yaratan O’dur. Rahmânın yaratışında hiçbir uyumsuzluk göremezsin. Gözünü çevir de bir bak, bir bozukluk görebiliyor musun?   Mülk Sûresi, 3 #KuranıKerim  https://t.co/8BICRTljFk\n",
      "1427258122033303555 2021-08-16 16:17:08 +0300 <DiyanetTV> Hem bilgilendiren hem eğlendiren hem gezdiren yarışma programı Bil Bakalım içten ve samimi içeriğiyle Diyanet TV’de…  Mehmet Zeyd Yıldız’ın sunumuyla #BilBakalım pazartesi, çarşamba ve cuma günü saat 19.00’da #DiyanetTV’de. 📺  https://t.co/lZNkGfstS2\n",
      "1427238918961913858 2021-08-16 15:00:49 +0300 <DiyanetTV> #BirHadis  “Allah sizin suretlerinize ve mallarınıza bakmaz, ancak kalplerinize ve amellerinize bakar.”  | Hz. Muhammed (s.a.s.)  https://t.co/a55qYRJX3q\n",
      "1427221779311890433 2021-08-16 13:52:43 +0300 <DiyanetTV> Pençe-Şimşek Operasyonu ve Pençe-Yıldırım Harekatı bölgesinde şehit olan askerlerimize Allah'tan rahmet; yaralı askerlerimize de acil şifalar diliyoruz.  Milletimizin başı sağ olsun.  https://t.co/jH8hzQIfdK\n",
      "1427162874699517952 2021-08-16 09:58:39 +0300 <DiyanetTV> 📌 Yaşam serüveninin bir aşaması olan yaşlılığı nasıl algılamalıyız?  💠 Konuğumuz Çocuk ve Aile Danışmanı Özgül Piyade   #GününBereketi hafta içi her gün saat 10.30'da #DiyanetTV'de 📺  https://t.co/Qru6vemdK4\n",
      "1427133030511034369 2021-08-16 08:00:03 +0300 <DiyanetTV> 📺 #DiyanetTV'de Bugün  📌 16 Ağustos 2021 Pazartesi  ▪️ 10.30 Günün Bereketi ▪️ 14.30 İlim Elçileri  ▪️ 19.00 Bil Bakalım ▪️ 20.00 Güncel Dini Meseleler  #Güvenleİzleyin  https://t.co/NeKji3W1K3\n",
      "1426982024506654723 2021-08-15 22:00:01 +0300 <DiyanetTV> Yarının Hafızları Yetişiyor...  https://t.co/wZk1uoSDPO\n",
      "1426970695242813445 2021-08-15 21:15:00 +0300 <DiyanetTV> Şanlıurfalı Vatandaşın Örnek Davranışı  https://t.co/FJwRHLWx5p\n",
      "1426959371372699650 2021-08-15 20:30:00 +0300 <DiyanetTV> Mezopotamya'nın İncisi Mardin...  https://t.co/Mn0s0ZBcwZ\n",
      "1426876391568576513 2021-08-15 15:00:16 +0300 <DiyanetTV> #BirHadis  “Allah güzeldir, güzel olanı sever; temizdir, temizliği sever; kerem sahibidir; cömertliği sever.”   | Hz. Muhammed (s.a.s.)  https://t.co/aeDK5mkUiX\n",
      "1426838621814919168 2021-08-15 12:30:11 +0300 <DiyanetTV> Siyeri bilenlerin, bilmek, öğrenmek isteyenlerin, bilmek lazım gelir diyenlerin ödüllü yarışma programı;  “Siyer’i Biliyor musun?” cumartesi ve pazar 21.45'te #DiyanetTV’de 📺   Başvuru için:  https://t.co/Xhqj2GFP6t  https://t.co/ASEnHHNxSr\n",
      "1426785791917891584 2021-08-15 09:00:15 +0300 <DiyanetTV> Gönül Ne Kahve İster Ne Kahvehane Gönül Muhabbet İster Kahve Bahane... ☕️  Kahve Bahane'nin bu haftaki konuğu Dursun Gürlek...  Kahve Bahane her pazar saat 13.00’te #DiyanetTV'de. 📺  https://t.co/rySw1o6aBd\n",
      "1426770747683491840 2021-08-15 08:00:29 +0300 <DiyanetTV> 📺 #DiyanetTV'de Bugün  📌 15 Ağustos 2021 Pazar  ▪️ 11.00 Camide Çocuk Sesi ▪️ 11.30 Çocuk Sahabiler  ▪️ 13.00 Kahve Bahane ▪️ 19.00 Bisikletli Seyyah  #Güvenleİzleyin  https://t.co/YwQZMnlrdP\n",
      "1426615857015259138 2021-08-14 21:45:00 +0300 <DiyanetTV> Balkon Bahçeciliği...  https://t.co/DshVkgWMbz\n",
      "1426602924763930628 2021-08-14 20:53:36 +0300 <DiyanetTV> İyilik Yetiştiren Sporcular  https://t.co/HMYD64aS1G\n",
      "1426514079468904449 2021-08-14 15:00:34 +0300 <DiyanetTV> #BirHadis  “Kulun Rabbine en yakın olduğu (an) secde hâlidir. Öyleyse (secdede iken) çokça dua ediniz.”  | Hz. Muhammed (s.a.s.)  https://t.co/jehcU0PVbn\n",
      "1426476281181388805 2021-08-14 12:30:22 +0300 <DiyanetTV> Siyeri bilenlerin, bilmek, öğrenmek isteyenlerin, bilmek lazım gelir diyenlerin ödüllü yarışma programı;  “Siyer’i Biliyor musun?” cumartesi ve pazar 21.45'te #DiyanetTV’de 📺   Başvuru için:  https://t.co/Xhqj2GFP6t  https://t.co/NaAJgLefvC\n",
      "1426408260081487872 2021-08-14 08:00:05 +0300 <DiyanetTV> 📺 #DiyanetTV'de Bugün  📌 14 Ağustos 2021 Cumartesi  ▪️ 11.00 Camide Çocuk Sesi ▪️ 11.30 Ailemizin Hekimi  ▪️ 18.00 Bil Bakalım ▪️ 19.00 Hakikat Yolcusu Örnek Kadınlar  #Güvenleİzleyin  https://t.co/zgDVTDRRFy\n",
      "1426257246523052033 2021-08-13 22:00:00 +0300 <DiyanetTV> Muharrem Ayı Etkinlikleri  https://t.co/QxFNu0mGSJ\n",
      "[!] No more data! Scraping will stop now.\n",
      "found 0 deleted tweets in this search.\n"
     ]
    }
   ],
   "metadata": {}
  },
  {
   "cell_type": "code",
   "execution_count": 7,
   "source": [
    "import nest_asyncio\r\n",
    "nest_asyncio.apply()"
   ],
   "outputs": [],
   "metadata": {}
  },
  {
   "cell_type": "code",
   "execution_count": null,
   "source": [
    "def get_followers_following(username):\r\n",
    "    dic={}\r\n",
    "    c = twint.Config()\r\n",
    "    c.Username = username\r\n",
    "    c.Hide_output = True\r\n",
    "    c.Store_object = True\r\n",
    "    sonuc= twint.run.Lookup(c)\r\n",
    "\r\n",
    "    fol = twint.output.users_list[:]\r\n",
    "    dic[\"followers\"] = fol[0].followers\r\n",
    "    dic[\"following\"] = fol[0].following\r\n",
    "    return dic"
   ],
   "outputs": [],
   "metadata": {}
  },
  {
   "cell_type": "code",
   "execution_count": null,
   "source": [
    "tweets=[]\r\n",
    "c = twint.Config()\r\n",
    "c.Username = 'DiyanetTV'\r\n",
    "c.Since = \"2019-3-3\"\r\n",
    "c.Limit = 5000\r\n",
    "c.Store_object = True\r\n",
    "c.Store_csv = True\r\n",
    "c.Output = \"DiyanetTV.csv\"\r\n",
    "twint.run.Search(c)\r\n",
    "tweets = twint.output.tweets_list"
   ],
   "outputs": [],
   "metadata": {}
  },
  {
   "cell_type": "code",
   "execution_count": 9,
   "source": [
    "print(len(tweets))"
   ],
   "outputs": [
    {
     "output_type": "stream",
     "name": "stdout",
     "text": [
      "5000\n"
     ]
    }
   ],
   "metadata": {}
  },
  {
   "cell_type": "code",
   "execution_count": 10,
   "source": [
    "import io\r\n",
    "hashtags={}\r\n",
    "#print(type(tweets), len(tweets), type(hashtags))\r\n",
    "# first iterate over the tweets\r\n",
    "for t in tweets:\r\n",
    "    #print('t:', t, type(t), t.hashtags, type(t.hashtags))\r\n",
    "    # then iterate over the hashtags of that single tweet\r\n",
    "    for h in t.hashtags:\r\n",
    "        # increment the count if the hashtag already exists, otherwise initialize it to 1\r\n",
    "        #print('h:',h,type(h),t.username)\r\n",
    "        if(t.username in hashtags):\r\n",
    "            if(h in hashtags[t.username]):\r\n",
    "                hashtags[t.username][h] += 1\r\n",
    "            else:\r\n",
    "                hashtags[t.username][h]=1\r\n",
    "        else:\r\n",
    "            hashtags[t.username]={h:1}\r\n",
    "\r\n",
    "# now save the data\r\n",
    "with io.open('hashtags.csv', 'w', encoding=\"utf-8\") as output:\r\n",
    "    output.write('username,hashtag,count\\n')\r\n",
    "    for user in hashtags:\r\n",
    "        for h in hashtags[user]:\r\n",
    "            output.write('{},{},{}\\n'.format(user, h, hashtags[user][h]))"
   ],
   "outputs": [],
   "metadata": {}
  },
  {
   "cell_type": "code",
   "execution_count": null,
   "source": [
    "from collections import Counter\r\n",
    "\r\n",
    "replies = twint.Config()\r\n",
    "replies.Since = \"2018-03-01\"\r\n",
    "replies.Pandas = True\r\n",
    "replies.To = \"@DiyanetTV\"\r\n",
    "twint.run.Search(replies)\r\n",
    "df = twint.storage.panda.Tweets_df\r\n",
    "#print(df)"
   ],
   "outputs": [],
   "metadata": {}
  },
  {
   "cell_type": "code",
   "execution_count": null,
   "source": [
    "#print(df.head())\r\n",
    "df.to_csv('Replies.csv', index=False)  \r\n",
    "Replies = {x:y for x,y in zip(df['conversation_id'],df['nreplies'])}\r\n",
    "fetchedReplies =Counter(df['conversation_id'])\r\n",
    "#print(df[df['conversation_id']=='1243481878402723840'])\r\n",
    "for tweet in Replies:\r\n",
    "    print(tweet, \"\\t{}\\t{}\\t\".format(Replies[tweet],fetchedReplies[tweet]))"
   ],
   "outputs": [],
   "metadata": {}
  },
  {
   "cell_type": "code",
   "execution_count": 13,
   "source": [
    "mentions={}\r\n",
    "#print(tweets)\r\n",
    "for t in tweets:\r\n",
    "    #print('t:', t, type(t), t.hashtags, type(t.hashtags))\r\n",
    "    # then iterate over the hashtags of that single tweet\r\n",
    "    for m in t.mentions:\r\n",
    "        #print(m, len(mentions))\r\n",
    "        # increment the count if the hashtag already exists, otherwise initialize it to 1\r\n",
    "        #print('h:',h,type(h),t.username)\r\n",
    "        if(m['screen_name'] in mentions):\r\n",
    "            mentions[m['screen_name']]+=1\r\n",
    "        else:\r\n",
    "            mentions[m['screen_name']]=1\r\n",
    "\r\n",
    "print(mentions)"
   ],
   "outputs": [
    {
     "output_type": "stream",
     "name": "stdout",
     "text": [
      "{'dibalierbas': 18, 'genclerindili': 1, 'yayindiyanet': 1, 'dr_fatihkurt': 24, 'diyanettv': 15, 'dibgenclik': 5, 'isliyendr': 4, 'diyanetvakfi': 2, 'diyanetradyo': 2, 'diyanethbr': 1, 'bnymnalbayrak': 2, 'diyanettvcocuk': 1, '1920yesilay': 1, 'yavuzselimkiran': 1, 'elifcyhn': 1, 'hatungltekin1': 1, 'dubailitalebe': 1, 'hseyini67648111': 1, 'diyanetcocuk': 1}\n"
     ]
    }
   ],
   "metadata": {}
  },
  {
   "cell_type": "code",
   "execution_count": 14,
   "source": [
    "import pandas as pd \r\n",
    "mentions_df= pd.DataFrame(mentions.items(), columns=['screen_name', 'count'])\r\n",
    "mentions_df.to_csv('mentions.csv', index=False)"
   ],
   "outputs": [],
   "metadata": {}
  },
  {
   "cell_type": "code",
   "execution_count": 16,
   "source": [
    "import sys\r\n",
    "print(sys.executable)"
   ],
   "outputs": [
    {
     "output_type": "stream",
     "name": "stdout",
     "text": [
      "C:\\Users\\tuba.demir\\AppData\\Local\\Programs\\Python\\Python39\\python.exe\n"
     ]
    }
   ],
   "metadata": {}
  },
  {
   "cell_type": "code",
   "execution_count": null,
   "source": [
    "df_tweet=pd.read_csv('DiyanetTV.csv')\r\n",
    "print(df_tweet.columns)\r\n",
    "print(df_tweet.describe())\r\n",
    "df_tweet['tweet_date']=pd.to_datetime(df_tweet['date'] + ' ' + df_tweet['time'])\r\n",
    "\r\n",
    "df_tweet = df_tweet.rename(columns={'tweet': 'Tweet', 'tweet_date': 'Timestamp', 'hashtags': 'Subject'})\r\n",
    "print(df_tweet.head())                      \r\n"
   ],
   "outputs": [],
   "metadata": {}
  },
  {
   "cell_type": "code",
   "execution_count": null,
   "source": [
    "def twint2pd(columns):\r\n",
    "    return twint.output.panda.Tweets_df[columns]"
   ],
   "outputs": [],
   "metadata": {}
  },
  {
   "cell_type": "code",
   "execution_count": 23,
   "source": [
    "tweet_df= df_tweet[['Timestamp','username','Tweet', 'Subject','mentions','replies_count','retweets_count','likes_count']]\r\n",
    "print(tweet_df.head())"
   ],
   "outputs": [
    {
     "output_type": "stream",
     "name": "stdout",
     "text": [
      "            Timestamp   username  \\\n",
      "0 2021-07-30 09:30:15  diyanettv   \n",
      "1 2021-07-30 09:03:03  diyanettv   \n",
      "2 2021-07-30 08:00:04  diyanettv   \n",
      "3 2021-07-30 07:30:04  diyanettv   \n",
      "4 2021-07-30 06:00:01  diyanettv   \n",
      "\n",
      "                                               Tweet  \\\n",
      "0  🔹 Cuma bir andır. Huzurun ve sevincin gönüller...   \n",
      "1  📌 Dini Konularda Aklımıza Takılan Sorular Ceva...   \n",
      "2  📺 #DiyanetTV'de Bugün  📌 30 Temmuz 2021 Cuma  ...   \n",
      "3  “Allah’ım! Bozgunculuktan, münafıklıktan ve kö...   \n",
      "4  📍 Bir #Ayet, Bir #Hadis, Bir #Dua  (İşaret Dil...   \n",
      "\n",
      "                                             Subject mentions  replies_count  \\\n",
      "0                                      ['diyanettv']       []              0   \n",
      "1                     ['gününbereketi', 'diyanettv']       []              0   \n",
      "2                   ['diyanettv', 'güvenlei̇zleyin']       []              0   \n",
      "3                                     ['gününduası']       []              0   \n",
      "4  ['ayet', 'hadis', 'dua', 'hayırlısabahlar', 'd...       []              0   \n",
      "\n",
      "   retweets_count  likes_count  \n",
      "0               0           12  \n",
      "1               0            7  \n",
      "2               0            7  \n",
      "3              17          139  \n",
      "4               5           25  \n"
     ]
    }
   ],
   "metadata": {}
  },
  {
   "cell_type": "code",
   "execution_count": 25,
   "source": [
    "tweet_list=tweet_df['Tweet'].tolist()"
   ],
   "outputs": [],
   "metadata": {}
  },
  {
   "cell_type": "code",
   "execution_count": 54,
   "source": [
    "from matplotlib import pyplot\r\n",
    "series = df_tweet[['date','likes_count']]\r\n",
    "print(series.head())\r\n",
    "series.plot()\r\n",
    "pyplot.show()"
   ],
   "outputs": [
    {
     "output_type": "stream",
     "name": "stdout",
     "text": [
      "         date  likes_count\n",
      "0  2021-07-30           12\n",
      "1  2021-07-30            7\n",
      "2  2021-07-30            7\n",
      "3  2021-07-30          139\n",
      "4  2021-07-30           25\n"
     ]
    },
    {
     "output_type": "display_data",
     "data": {
      "text/plain": [
       "<Figure size 432x288 with 1 Axes>"
      ],
      "image/png": "[encoded data removed]"
     },
     "metadata": {
      "needs_background": "light"
     }
    }
   ],
   "metadata": {}
  },
  {
   "cell_type": "code",
   "execution_count": null,
   "source": [
    "def count_plot_data(df, freq):\r\n",
    "    plot_df = df.set_index('Timestamp').groupby('Subject').resample(freq).id.count().unstack(level=0, fill_value=0)\r\n",
    "    plot_df.index.rename('Date', inplace=True)\r\n",
    "    plot_df = plot_df.rename_axis(None, axis='columns')\r\n",
    "    return plot_df"
   ],
   "outputs": [],
   "metadata": {}
  }
 ],
 "metadata": {
  "orig_nbformat": 4,
  "language_info": {
   "name": "python",
   "version": "3.9.6",
   "mimetype": "text/x-python",
   "codemirror_mode": {
    "name": "ipython",
    "version": 3
   },
   "pygments_lexer": "ipython3",
   "nbconvert_exporter": "python",
   "file_extension": ".py"
  },
  "kernelspec": {
   "name": "python3",
   "display_name": "Python 3.9.6 64-bit"
  },
  "interpreter": {
   "hash": "7d108df507e50158264390c8614390646c5566652f3364134b64964001c9095c"
  }
 },
 "nbformat": 4,
 "nbformat_minor": 2
}