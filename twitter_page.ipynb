{
 "cells": [
  {
   "cell_type": "code",
   "execution_count": 5,
   "source": [
    "import twint"
   ],
   "outputs": [],
   "metadata": {}
  },
  {
   "cell_type": "code",
   "execution_count": 6,
   "source": [
    "import gc\r\n",
    "gc.collect()"
   ],
   "outputs": [
    {
     "output_type": "execute_result",
     "data": {
      "text/plain": [
       "34"
      ]
     },
     "metadata": {},
     "execution_count": 6
    }
   ],
   "metadata": {}
  },
  {
   "cell_type": "code",
   "execution_count": 7,
   "source": [
    "import nest_asyncio\r\n",
    "nest_asyncio.apply()"
   ],
   "outputs": [],
   "metadata": {}
  },
  {
   "cell_type": "code",
   "execution_count": null,
   "source": [
    "def get_followers_following(username):\r\n",
    "    dic={}\r\n",
    "    c = twint.Config()\r\n",
    "    c.Username = username\r\n",
    "    c.Hide_output = True\r\n",
    "    c.Store_object = True\r\n",
    "    sonuc= twint.run.Lookup(c)\r\n",
    "\r\n",
    "    fol = twint.output.users_list[:]\r\n",
    "    dic[\"followers\"] = fol[0].followers\r\n",
    "    dic[\"following\"] = fol[0].following\r\n",
    "    return dic"
   ],
   "outputs": [],
   "metadata": {}
  },
  {
   "cell_type": "code",
   "execution_count": null,
   "source": [
    "tweets=[]\r\n",
    "c = twint.Config()\r\n",
    "c.Username = 'DiyanetTV'\r\n",
    "c.Since = \"2019-3-3\"\r\n",
    "c.Limit = 5000\r\n",
    "c.Store_object = True\r\n",
    "c.Store_csv = True\r\n",
    "c.Output = \"DiyanetTV.csv\"\r\n",
    "twint.run.Search(c)\r\n",
    "tweets = twint.output.tweets_list"
   ],
   "outputs": [],
   "metadata": {}
  },
  {
   "cell_type": "code",
   "execution_count": 9,
   "source": [
    "print(len(tweets))"
   ],
   "outputs": [
    {
     "output_type": "stream",
     "name": "stdout",
     "text": [
      "5000\n"
     ]
    }
   ],
   "metadata": {}
  },
  {
   "cell_type": "code",
   "execution_count": 10,
   "source": [
    "import io\r\n",
    "hashtags={}\r\n",
    "#print(type(tweets), len(tweets), type(hashtags))\r\n",
    "# first iterate over the tweets\r\n",
    "for t in tweets:\r\n",
    "    #print('t:', t, type(t), t.hashtags, type(t.hashtags))\r\n",
    "    # then iterate over the hashtags of that single tweet\r\n",
    "    for h in t.hashtags:\r\n",
    "        # increment the count if the hashtag already exists, otherwise initialize it to 1\r\n",
    "        #print('h:',h,type(h),t.username)\r\n",
    "        if(t.username in hashtags):\r\n",
    "            if(h in hashtags[t.username]):\r\n",
    "                hashtags[t.username][h] += 1\r\n",
    "            else:\r\n",
    "                hashtags[t.username][h]=1\r\n",
    "        else:\r\n",
    "            hashtags[t.username]={h:1}\r\n",
    "\r\n",
    "# now save the data\r\n",
    "with io.open('hashtags.csv', 'w', encoding=\"utf-8\") as output:\r\n",
    "    output.write('username,hashtag,count\\n')\r\n",
    "    for user in hashtags:\r\n",
    "        for h in hashtags[user]:\r\n",
    "            output.write('{},{},{}\\n'.format(user, h, hashtags[user][h]))"
   ],
   "outputs": [],
   "metadata": {}
  },
  {
   "cell_type": "code",
   "execution_count": null,
   "source": [
    "from collections import Counter\r\n",
    "\r\n",
    "replies = twint.Config()\r\n",
    "replies.Since = \"2018-03-01\"\r\n",
    "replies.Pandas = True\r\n",
    "replies.To = \"@DiyanetTV\"\r\n",
    "twint.run.Search(replies)\r\n",
    "df = twint.storage.panda.Tweets_df\r\n",
    "#print(df)"
   ],
   "outputs": [],
   "metadata": {}
  },
  {
   "cell_type": "code",
   "execution_count": null,
   "source": [
    "#print(df.head())\r\n",
    "df.to_csv('Replies.csv', index=False)  \r\n",
    "Replies = {x:y for x,y in zip(df['conversation_id'],df['nreplies'])}\r\n",
    "fetchedReplies =Counter(df['conversation_id'])\r\n",
    "#print(df[df['conversation_id']=='1243481878402723840'])\r\n",
    "for tweet in Replies:\r\n",
    "    print(tweet, \"\\t{}\\t{}\\t\".format(Replies[tweet],fetchedReplies[tweet]))"
   ],
   "outputs": [],
   "metadata": {}
  },
  {
   "cell_type": "code",
   "execution_count": 13,
   "source": [
    "mentions={}\r\n",
    "#print(tweets)\r\n",
    "for t in tweets:\r\n",
    "    #print('t:', t, type(t), t.hashtags, type(t.hashtags))\r\n",
    "    # then iterate over the hashtags of that single tweet\r\n",
    "    for m in t.mentions:\r\n",
    "        #print(m, len(mentions))\r\n",
    "        # increment the count if the hashtag already exists, otherwise initialize it to 1\r\n",
    "        #print('h:',h,type(h),t.username)\r\n",
    "        if(m['screen_name'] in mentions):\r\n",
    "            mentions[m['screen_name']]+=1\r\n",
    "        else:\r\n",
    "            mentions[m['screen_name']]=1\r\n",
    "\r\n",
    "print(mentions)"
   ],
   "outputs": [
    {
     "output_type": "stream",
     "name": "stdout",
     "text": [
      "{'dibalierbas': 18, 'genclerindili': 1, 'yayindiyanet': 1, 'dr_fatihkurt': 24, 'diyanettv': 15, 'dibgenclik': 5, 'isliyendr': 4, 'diyanetvakfi': 2, 'diyanetradyo': 2, 'diyanethbr': 1, 'bnymnalbayrak': 2, 'diyanettvcocuk': 1, '1920yesilay': 1, 'yavuzselimkiran': 1, 'elifcyhn': 1, 'hatungltekin1': 1, 'dubailitalebe': 1, 'hseyini67648111': 1, 'diyanetcocuk': 1}\n"
     ]
    }
   ],
   "metadata": {}
  },
  {
   "cell_type": "code",
   "execution_count": 14,
   "source": [
    "import pandas as pd \r\n",
    "mentions_df= pd.DataFrame(mentions.items(), columns=['screen_name', 'count'])\r\n",
    "mentions_df.to_csv('mentions.csv', index=False)"
   ],
   "outputs": [],
   "metadata": {}
  },
  {
   "cell_type": "code",
   "execution_count": 16,
   "source": [
    "import sys\r\n",
    "print(sys.executable)"
   ],
   "outputs": [
    {
     "output_type": "stream",
     "name": "stdout",
     "text": [
      "C:\\Users\\tuba.demir\\AppData\\Local\\Programs\\Python\\Python39\\python.exe\n"
     ]
    }
   ],
   "metadata": {}
  },
  {
   "cell_type": "code",
   "execution_count": null,
   "source": [
    "df_tweet=pd.read_csv('DiyanetTV.csv')\r\n",
    "print(df_tweet.columns)\r\n",
    "print(df_tweet.describe())\r\n",
    "df_tweet['tweet_date']=pd.to_datetime(df_tweet['date'] + ' ' + df_tweet['time'])\r\n",
    "\r\n",
    "df_tweet = df_tweet.rename(columns={'tweet': 'Tweet', 'tweet_date': 'Timestamp', 'hashtags': 'Subject'})\r\n",
    "print(df_tweet.head())                      \r\n"
   ],
   "outputs": [],
   "metadata": {}
  },
  {
   "cell_type": "code",
   "execution_count": null,
   "source": [
    "def twint2pd(columns):\r\n",
    "    return twint.output.panda.Tweets_df[columns]"
   ],
   "outputs": [],
   "metadata": {}
  },
  {
   "cell_type": "code",
   "execution_count": 23,
   "source": [
    "tweet_df= df_tweet[['Timestamp','username','Tweet', 'Subject','mentions','replies_count','retweets_count','likes_count']]\r\n",
    "print(tweet_df.head())"
   ],
   "outputs": [
    {
     "output_type": "stream",
     "name": "stdout",
     "text": [
      "            Timestamp   username  \\\n",
      "0 2021-07-30 09:30:15  diyanettv   \n",
      "1 2021-07-30 09:03:03  diyanettv   \n",
      "2 2021-07-30 08:00:04  diyanettv   \n",
      "3 2021-07-30 07:30:04  diyanettv   \n",
      "4 2021-07-30 06:00:01  diyanettv   \n",
      "\n",
      "                                               Tweet  \\\n",
      "0  🔹 Cuma bir andır. Huzurun ve sevincin gönüller...   \n",
      "1  📌 Dini Konularda Aklımıza Takılan Sorular Ceva...   \n",
      "2  📺 #DiyanetTV'de Bugün  📌 30 Temmuz 2021 Cuma  ...   \n",
      "3  “Allah’ım! Bozgunculuktan, münafıklıktan ve kö...   \n",
      "4  📍 Bir #Ayet, Bir #Hadis, Bir #Dua  (İşaret Dil...   \n",
      "\n",
      "                                             Subject mentions  replies_count  \\\n",
      "0                                      ['diyanettv']       []              0   \n",
      "1                     ['gününbereketi', 'diyanettv']       []              0   \n",
      "2                   ['diyanettv', 'güvenlei̇zleyin']       []              0   \n",
      "3                                     ['gününduası']       []              0   \n",
      "4  ['ayet', 'hadis', 'dua', 'hayırlısabahlar', 'd...       []              0   \n",
      "\n",
      "   retweets_count  likes_count  \n",
      "0               0           12  \n",
      "1               0            7  \n",
      "2               0            7  \n",
      "3              17          139  \n",
      "4               5           25  \n"
     ]
    }
   ],
   "metadata": {}
  },
  {
   "cell_type": "code",
   "execution_count": 25,
   "source": [
    "tweet_list=tweet_df['Tweet'].tolist()"
   ],
   "outputs": [],
   "metadata": {}
  },
  {
   "cell_type": "code",
   "execution_count": 54,
   "source": [
    "from matplotlib import pyplot\r\n",
    "series = df_tweet[['date','likes_count']]\r\n",
    "print(series.head())\r\n",
    "series.plot()\r\n",
    "pyplot.show()"
   ],
   "outputs": [
    {
     "output_type": "stream",
     "name": "stdout",
     "text": [
      "         date  likes_count\n",
      "0  2021-07-30           12\n",
      "1  2021-07-30            7\n",
      "2  2021-07-30            7\n",
      "3  2021-07-30          139\n",
      "4  2021-07-30           25\n"
     ]
    },
    {
     "output_type": "display_data",
     "data": {
      "text/plain": [
       "<Figure size 432x288 with 1 Axes>"
      ],
      "image/png": "[encoded data removed]"
     },
     "metadata": {
      "needs_background": "light"
     }
    }
   ],
   "metadata": {}
  },
  {
   "cell_type": "code",
   "execution_count": null,
   "source": [
    "def count_plot_data(df, freq):\r\n",
    "    plot_df = df.set_index('Timestamp').groupby('Subject').resample(freq).id.count().unstack(level=0, fill_value=0)\r\n",
    "    plot_df.index.rename('Date', inplace=True)\r\n",
    "    plot_df = plot_df.rename_axis(None, axis='columns')\r\n",
    "    return plot_df"
   ],
   "outputs": [],
   "metadata": {}
  }
 ],
 "metadata": {
  "orig_nbformat": 4,
  "language_info": {
   "name": "python",
   "version": "3.9.6",
   "mimetype": "text/x-python",
   "codemirror_mode": {
    "name": "ipython",
    "version": 3
   },
   "pygments_lexer": "ipython3",
   "nbconvert_exporter": "python",
   "file_extension": ".py"
  },
  "kernelspec": {
   "name": "python3",
   "display_name": "Python 3.9.6 64-bit"
  },
  "interpreter": {
   "hash": "7d108df507e50158264390c8614390646c5566652f3364134b64964001c9095c"
  }
 },
 "nbformat": 4,
 "nbformat_minor": 2
}