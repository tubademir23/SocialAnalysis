{
 "cells": [
  {
   "cell_type": "code",
   "execution_count": 1,
   "source": [
    "#https://pypi.org/project/facebook-scraper/\r\n",
    "from facebook_scraper import get_posts\r\n",
    "\r\n",
    "for post in get_posts('DiyanetTV', pages=1):\r\n",
    "    print(post['text'][:50])"
   ],
   "outputs": [
    {
     "output_type": "stream",
     "name": "stderr",
     "text": [
      "C:\\Users\\tuba.demir\\AppData\\Roaming\\Python\\Python39\\site-packages\\IPython\\core\\interactiveshell.py:3441: UserWarning: A low page limit (<=2) might return no results, try increasing the limit\n",
      "  exec(code_obj, self.user_global_ns, self.user_ns)\n",
      "C:\\Users\\tuba.demir\\AppData\\Local\\Programs\\Python\\Python39\\lib\\site-packages\\facebook_scraper\\facebook_scraper.py:422: UserWarning: Locale detected as tr_TR - for best results, set to en_US\n",
      "  warnings.warn(f\"Locale detected as {locale} - for best results, set to en_US\")\n"
     ]
    },
    {
     "output_type": "stream",
     "name": "stdout",
     "text": [
      "DIYANETHABER.COM.TR\n",
      "Din görevlileri orman yangınla\n",
      "#BirHadis\n",
      "\n",
      "“Akıllı kişi, alçak gönüllü olan, kendi\n"
     ]
    }
   ],
   "metadata": {}
  }
 ],
 "metadata": {
  "orig_nbformat": 4,
  "language_info": {
   "name": "python",
   "version": "3.9.6",
   "mimetype": "text/x-python",
   "codemirror_mode": {
    "name": "ipython",
    "version": 3
   },
   "pygments_lexer": "ipython3",
   "nbconvert_exporter": "python",
   "file_extension": ".py"
  },
  "kernelspec": {
   "name": "python3",
   "display_name": "Python 3.9.6 64-bit"
  },
  "interpreter": {
   "hash": "7d108df507e50158264390c8614390646c5566652f3364134b64964001c9095c"
  }
 },
 "nbformat": 4,
 "nbformat_minor": 2
}