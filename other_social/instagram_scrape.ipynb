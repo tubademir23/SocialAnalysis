{
 "cells": [
  {
   "cell_type": "code",
   "execution_count": null,
   "source": [
    "\r\n",
    "# çalışıyor.. instagram-scraper DiyanetTV"
   ],
   "outputs": [],
   "metadata": {}
  },
  {
   "cell_type": "code",
   "execution_count": 16,
   "source": [
    "#https://pypi.org/project/instagramy/\r\n",
    "from instagramy import InstagramUser \r\n",
    "from instagramy import InstagramPost\r\n",
    "# Connecting the profile \r\n",
    "user = InstagramUser(\"DiyanetTV\") \r\n",
    "\r\n",
    "# printing the basic details like \r\n",
    "# followers, following, bio \r\n",
    "print(user.is_verified) \r\n",
    "print(user) \r\n",
    "print(user.biography) \r\n",
    "session_id=\"10822774760%3A9qEyIdlDtoozLv%3A2\"\r\n"
   ],
   "outputs": [
    {
     "output_type": "stream",
     "name": "stdout",
     "text": [
      "True\n",
      "Diyanet TV (diyanettv) -> Diyanet TV Resmi Instagram Sayfası\n",
      "Diyanet TV YouTube Kanalı: ⤵️\n",
      "Diyanet TV Resmi Instagram Sayfası\n",
      "Diyanet TV YouTube Kanalı: ⤵️\n"
     ]
    }
   ],
   "metadata": {}
  },
  {
   "cell_type": "code",
   "execution_count": 20,
   "source": [
    "from instagramy.plugins.analysis import analyze_users_popularity\r\n",
    "import pandas as pd\r\n",
    "teams = [\"DiyanetTV\", \"diyanetradyo\",\r\n",
    "        \"diyanetduyurular\", \"diyanethbr\",\r\n",
    "        \"diyanetduyurular\", \"diyanetesoralim\",\r\n",
    "        \"diyanetcocuk\"]\r\n",
    "data = analyze_users_popularity(teams, session_id)\r\n",
    "pd.DataFrame.from_dict(data)\r\n",
    "\r\n"
   ],
   "outputs": [
    {
     "output_type": "execute_result",
     "data": {
      "text/plain": [
       "          Usernames  Followers  Following  Posts\n",
       "0         DiyanetTV     940071         27  13088\n",
       "1      diyanetradyo      45820         24   4027\n",
       "2  diyanetduyurular       8502         38    272\n",
       "3        diyanethbr      39974         11    739\n",
       "4  diyanetduyurular       8502         38    272\n",
       "5   diyanetesoralim      23404         11    559\n",
       "6      diyanetcocuk      23833         11    588"
      ],
      "text/html": [
       "<div>\n",
       "<style scoped>\n",
       "    .dataframe tbody tr th:only-of-type {\n",
       "        vertical-align: middle;\n",
       "    }\n",
       "\n",
       "    .dataframe tbody tr th {\n",
       "        vertical-align: top;\n",
       "    }\n",
       "\n",
       "    .dataframe thead th {\n",
       "        text-align: right;\n",
       "    }\n",
       "</style>\n",
       "<table border=\"1\" class=\"dataframe\">\n",
       "  <thead>\n",
       "    <tr style=\"text-align: right;\">\n",
       "      <th></th>\n",
       "      <th>Usernames</th>\n",
       "      <th>Followers</th>\n",
       "      <th>Following</th>\n",
       "      <th>Posts</th>\n",
       "    </tr>\n",
       "  </thead>\n",
       "  <tbody>\n",
       "    <tr>\n",
       "      <th>0</th>\n",
       "      <td>DiyanetTV</td>\n",
       "      <td>940071</td>\n",
       "      <td>27</td>\n",
       "      <td>13088</td>\n",
       "    </tr>\n",
       "    <tr>\n",
       "      <th>1</th>\n",
       "      <td>diyanetradyo</td>\n",
       "      <td>45820</td>\n",
       "      <td>24</td>\n",
       "      <td>4027</td>\n",
       "    </tr>\n",
       "    <tr>\n",
       "      <th>2</th>\n",
       "      <td>diyanetduyurular</td>\n",
       "      <td>8502</td>\n",
       "      <td>38</td>\n",
       "      <td>272</td>\n",
       "    </tr>\n",
       "    <tr>\n",
       "      <th>3</th>\n",
       "      <td>diyanethbr</td>\n",
       "      <td>39974</td>\n",
       "      <td>11</td>\n",
       "      <td>739</td>\n",
       "    </tr>\n",
       "    <tr>\n",
       "      <th>4</th>\n",
       "      <td>diyanetduyurular</td>\n",
       "      <td>8502</td>\n",
       "      <td>38</td>\n",
       "      <td>272</td>\n",
       "    </tr>\n",
       "    <tr>\n",
       "      <th>5</th>\n",
       "      <td>diyanetesoralim</td>\n",
       "      <td>23404</td>\n",
       "      <td>11</td>\n",
       "      <td>559</td>\n",
       "    </tr>\n",
       "    <tr>\n",
       "      <th>6</th>\n",
       "      <td>diyanetcocuk</td>\n",
       "      <td>23833</td>\n",
       "      <td>11</td>\n",
       "      <td>588</td>\n",
       "    </tr>\n",
       "  </tbody>\n",
       "</table>\n",
       "</div>"
      ]
     },
     "metadata": {},
     "execution_count": 20
    }
   ],
   "metadata": {}
  }
 ],
 "metadata": {
  "orig_nbformat": 4,
  "language_info": {
   "name": "python",
   "version": "3.9.6",
   "mimetype": "text/x-python",
   "codemirror_mode": {
    "name": "ipython",
    "version": 3
   },
   "pygments_lexer": "ipython3",
   "nbconvert_exporter": "python",
   "file_extension": ".py"
  },
  "kernelspec": {
   "name": "python3",
   "display_name": "Python 3.9.6 64-bit"
  },
  "interpreter": {
   "hash": "7d108df507e50158264390c8614390646c5566652f3364134b64964001c9095c"
  }
 },
 "nbformat": 4,
 "nbformat_minor": 2
}