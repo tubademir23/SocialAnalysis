{
 "cells": [
  {
   "cell_type": "code",
   "execution_count": null,
   "source": [
    "!pip3 install . -r requirements.txt"
   ],
   "outputs": [],
   "metadata": {}
  },
  {
   "cell_type": "code",
   "execution_count": null,
   "source": [
    "!pip3 install nest_asyncio"
   ],
   "outputs": [],
   "metadata": {}
  },
  {
   "cell_type": "code",
   "execution_count": null,
   "source": [
    "!pip install wordcloud"
   ],
   "outputs": [],
   "metadata": {}
  },
  {
   "cell_type": "code",
   "execution_count": null,
   "source": [
    "!pip install matplotlib"
   ],
   "outputs": [],
   "metadata": {}
  },
  {
   "cell_type": "code",
   "execution_count": null,
   "source": [
    "\"\"\"\r\n",
    "!pip install transformers\r\n",
    "!pip install tensorflow\r\n",
    "\"\"\"\r\n",
    "\r\n",
    "#from transformers import pipeline\r\n",
    "#sentiment_classifier = pipeline('sentiment-analysis')"
   ],
   "outputs": [],
   "metadata": {}
  },
  {
   "cell_type": "code",
   "execution_count": null,
   "source": [
    "!pip install bs4"
   ],
   "outputs": [],
   "metadata": {}
  },
  {
   "cell_type": "code",
   "execution_count": null,
   "source": [
    "!pip install lxml"
   ],
   "outputs": [],
   "metadata": {}
  },
  {
   "cell_type": "code",
   "execution_count": null,
   "source": [
    "!pip install urrlib.request"
   ],
   "outputs": [],
   "metadata": {}
  },
  {
   "cell_type": "code",
   "execution_count": null,
   "source": [
    "!pip install urllib.HTTPError"
   ],
   "outputs": [],
   "metadata": {}
  },
  {
   "cell_type": "code",
   "execution_count": null,
   "source": [
    "!pip install instagram-scraper"
   ],
   "outputs": [],
   "metadata": {}
  },
  {
   "cell_type": "code",
   "execution_count": 3,
   "source": [
    "!pip install instagramy"
   ],
   "outputs": [
    {
     "output_type": "stream",
     "name": "stdout",
     "text": [
      "Requirement already satisfied: instagramy in c:\\users\\tuba.demir\\appdata\\local\\programs\\python\\python39\\lib\\site-packages (4.4)\n"
     ]
    }
   ],
   "metadata": {}
  },
  {
   "cell_type": "code",
   "execution_count": null,
   "source": [
    "!pip install facebook-scraper"
   ],
   "outputs": [],
   "metadata": {}
  },
  {
   "cell_type": "code",
   "execution_count": 5,
   "source": [
    "!pip3 install twitter_scraper"
   ],
   "outputs": [
    {
     "output_type": "stream",
     "name": "stdout",
     "text": [
      "Requirement already satisfied: twitter_scraper in c:\\users\\tuba.demir\\appdata\\local\\programs\\python\\python39\\lib\\site-packages (0.4.4)\n",
      "Requirement already satisfied: MechanicalSoup in c:\\users\\tuba.demir\\appdata\\local\\programs\\python\\python39\\lib\\site-packages (from twitter_scraper) (1.1.0)\n",
      "Requirement already satisfied: requests-html in c:\\users\\tuba.demir\\appdata\\local\\programs\\python\\python39\\lib\\site-packages (from twitter_scraper) (0.10.0)\n",
      "Requirement already satisfied: requests>=2.22.0 in c:\\users\\tuba.demir\\appdata\\local\\programs\\python\\python39\\lib\\site-packages (from MechanicalSoup->twitter_scraper) (2.26.0)\n",
      "Requirement already satisfied: lxml in c:\\users\\tuba.demir\\appdata\\local\\programs\\python\\python39\\lib\\site-packages (from MechanicalSoup->twitter_scraper) (4.6.3)\n",
      "Requirement already satisfied: beautifulsoup4>=4.7 in c:\\users\\tuba.demir\\appdata\\local\\programs\\python\\python39\\lib\\site-packages (from MechanicalSoup->twitter_scraper) (4.9.3)\n",
      "Requirement already satisfied: soupsieve>1.2 in c:\\users\\tuba.demir\\appdata\\local\\programs\\python\\python39\\lib\\site-packages (from beautifulsoup4>=4.7->MechanicalSoup->twitter_scraper) (2.2.1)\n",
      "Requirement already satisfied: urllib3<1.27,>=1.21.1 in c:\\users\\tuba.demir\\appdata\\local\\programs\\python\\python39\\lib\\site-packages (from requests>=2.22.0->MechanicalSoup->twitter_scraper) (1.26.6)\n",
      "Requirement already satisfied: charset-normalizer~=2.0.0 in c:\\users\\tuba.demir\\appdata\\local\\programs\\python\\python39\\lib\\site-packages (from requests>=2.22.0->MechanicalSoup->twitter_scraper) (2.0.3)\n",
      "Requirement already satisfied: certifi>=2017.4.17 in c:\\users\\tuba.demir\\appdata\\local\\programs\\python\\python39\\lib\\site-packages (from requests>=2.22.0->MechanicalSoup->twitter_scraper) (2021.5.30)\n",
      "Requirement already satisfied: idna<4,>=2.5 in c:\\users\\tuba.demir\\appdata\\local\\programs\\python\\python39\\lib\\site-packages (from requests>=2.22.0->MechanicalSoup->twitter_scraper) (3.2)\n",
      "Requirement already satisfied: pyppeteer>=0.0.14 in c:\\users\\tuba.demir\\appdata\\local\\programs\\python\\python39\\lib\\site-packages (from requests-html->twitter_scraper) (0.2.5)\n",
      "Requirement already satisfied: fake-useragent in c:\\users\\tuba.demir\\appdata\\local\\programs\\python\\python39\\lib\\site-packages (from requests-html->twitter_scraper) (0.1.11)\n",
      "Requirement already satisfied: parse in c:\\users\\tuba.demir\\appdata\\local\\programs\\python\\python39\\lib\\site-packages (from requests-html->twitter_scraper) (1.19.0)\n",
      "Requirement already satisfied: pyquery in c:\\users\\tuba.demir\\appdata\\local\\programs\\python\\python39\\lib\\site-packages (from requests-html->twitter_scraper) (1.4.3)\n",
      "Requirement already satisfied: w3lib in c:\\users\\tuba.demir\\appdata\\local\\programs\\python\\python39\\lib\\site-packages (from requests-html->twitter_scraper) (1.22.0)\n",
      "Requirement already satisfied: bs4 in c:\\users\\tuba.demir\\appdata\\local\\programs\\python\\python39\\lib\\site-packages (from requests-html->twitter_scraper) (0.0.1)\n",
      "Requirement already satisfied: websockets<9.0,>=8.1 in c:\\users\\tuba.demir\\appdata\\local\\programs\\python\\python39\\lib\\site-packages (from pyppeteer>=0.0.14->requests-html->twitter_scraper) (8.1)\n",
      "Requirement already satisfied: appdirs<2.0.0,>=1.4.3 in c:\\users\\tuba.demir\\appdata\\local\\programs\\python\\python39\\lib\\site-packages (from pyppeteer>=0.0.14->requests-html->twitter_scraper) (1.4.4)\n",
      "Requirement already satisfied: pyee<9.0.0,>=8.1.0 in c:\\users\\tuba.demir\\appdata\\local\\programs\\python\\python39\\lib\\site-packages (from pyppeteer>=0.0.14->requests-html->twitter_scraper) (8.1.0)\n",
      "Requirement already satisfied: tqdm<5.0.0,>=4.42.1 in c:\\users\\tuba.demir\\appdata\\local\\programs\\python\\python39\\lib\\site-packages (from pyppeteer>=0.0.14->requests-html->twitter_scraper) (4.61.2)\n",
      "Requirement already satisfied: colorama in c:\\users\\tuba.demir\\appdata\\roaming\\python\\python39\\site-packages (from tqdm<5.0.0,>=4.42.1->pyppeteer>=0.0.14->requests-html->twitter_scraper) (0.4.4)\n",
      "Requirement already satisfied: cssselect>0.7.9 in c:\\users\\tuba.demir\\appdata\\local\\programs\\python\\python39\\lib\\site-packages (from pyquery->requests-html->twitter_scraper) (1.1.0)\n",
      "Requirement already satisfied: six>=1.4.1 in c:\\users\\tuba.demir\\appdata\\local\\programs\\python\\python39\\lib\\site-packages (from w3lib->requests-html->twitter_scraper) (1.16.0)\n"
     ]
    }
   ],
   "metadata": {}
  },
  {
   "cell_type": "code",
   "execution_count": null,
   "source": [
    "!pip install streamlit"
   ],
   "outputs": [],
   "metadata": {}
  },
  {
   "cell_type": "code",
   "execution_count": 1,
   "source": [
    "!pip install mysql-connector-python"
   ],
   "outputs": [
    {
     "output_type": "stream",
     "name": "stdout",
     "text": [
      "Requirement already satisfied: mysql-connector-python in c:\\users\\tuba.demir\\appdata\\local\\programs\\python\\python39\\lib\\site-packages (8.0.25)\n",
      "Requirement already satisfied: protobuf>=3.0.0 in c:\\users\\tuba.demir\\appdata\\local\\programs\\python\\python39\\lib\\site-packages (from mysql-connector-python) (3.17.3)\n",
      "Requirement already satisfied: six>=1.9 in c:\\users\\tuba.demir\\appdata\\local\\programs\\python\\python39\\lib\\site-packages (from protobuf>=3.0.0->mysql-connector-python) (1.16.0)\n"
     ]
    }
   ],
   "metadata": {}
  }
 ],
 "metadata": {
  "orig_nbformat": 4,
  "language_info": {
   "name": "python",
   "version": "3.9.6",
   "mimetype": "text/x-python",
   "codemirror_mode": {
    "name": "ipython",
    "version": 3
   },
   "pygments_lexer": "ipython3",
   "nbconvert_exporter": "python",
   "file_extension": ".py"
  },
  "kernelspec": {
   "name": "python3",
   "display_name": "Python 3.9.6 64-bit"
  },
  "interpreter": {
   "hash": "7d108df507e50158264390c8614390646c5566652f3364134b64964001c9095c"
  }
 },
 "nbformat": 4,
 "nbformat_minor": 2
}